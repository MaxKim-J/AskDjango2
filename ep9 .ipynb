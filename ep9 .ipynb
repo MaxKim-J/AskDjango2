{
 "cells": [
  {
   "cell_type": "code",
   "execution_count": 3,
   "metadata": {},
   "outputs": [
    {
     "data": {
      "text/plain": [
       "<QuerySet [<Post: 현대중 노조 파업 투표 가결...본격적인 임금협상 앞두고 변수로 떠올라>, <Post: '아내 골프채 살해' 전 김포시의회 의장, 고의성 '전면 부인'>]>"
      ]
     },
     "execution_count": 3,
     "metadata": {},
     "output_type": "execute_result"
    }
   ],
   "source": [
    "from blog.models import Post\n",
    "Post.objects.all()\n",
    "#모델 매니저에 접근, 모든 쿼리셋 획득"
   ]
  },
  {
   "cell_type": "code",
   "execution_count": 4,
   "metadata": {},
   "outputs": [
    {
     "data": {
      "text/plain": [
       "blog.models.Post"
      ]
     },
     "execution_count": 4,
     "metadata": {},
     "output_type": "execute_result"
    }
   ],
   "source": [
    "Post"
   ]
  },
  {
   "cell_type": "code",
   "execution_count": 7,
   "metadata": {},
   "outputs": [
    {
     "data": {
      "text/plain": [
       "<QuerySet [<Post: '아내 골프채 살해' 전 김포시의회 의장, 고의성 '전면 부인'>]>"
      ]
     },
     "execution_count": 7,
     "metadata": {},
     "output_type": "execute_result"
    }
   ],
   "source": [
    "Post.objects.all().order_by('-id')[:1]\n",
    "#pk로 인덱싱 가능"
   ]
  },
  {
   "cell_type": "code",
   "execution_count": 9,
   "metadata": {},
   "outputs": [
    {
     "data": {
      "text/plain": [
       "{'sql': 'SELECT \"blog_post\".\"id\", \"blog_post\".\"author\", \"blog_post\".\"title\", \"blog_post\".\"content\", \"blog_post\".\"created_at\", \"blog_post\".\"updated_at\", \"blog_post\".\"status\", \"blog_post\".\"tags\", \"blog_post\".\"lnglat\" FROM \"blog_post\" ORDER BY \"blog_post\".\"id\" DESC  LIMIT 1',\n",
       " 'time': '0.000'}"
      ]
     },
     "execution_count": 9,
     "metadata": {},
     "output_type": "execute_result"
    }
   ],
   "source": [
    "Post.objects.all()\n",
    "from django.db import connection\n",
    "connection.queries[-1]"
   ]
  },
  {
   "cell_type": "code",
   "execution_count": 11,
   "metadata": {},
   "outputs": [
    {
     "data": {
      "text/plain": [
       "<Post: 사지말고쓰지말자>"
      ]
     },
     "execution_count": 11,
     "metadata": {},
     "output_type": "execute_result"
    }
   ],
   "source": [
    "Post.objects.create(author=\"이진석\", title=\"사지말고쓰지말자\", content=\"반일감정 고조 불매운동\", status='d' )"
   ]
  },
  {
   "cell_type": "code",
   "execution_count": 13,
   "metadata": {},
   "outputs": [
    {
     "data": {
      "text/plain": [
       "<QuerySet [<Post: 현대중 노조 파업 투표 가결...본격적인 임금협상 앞두고 변수로 떠올라>, <Post: '아내 골프채 살해' 전 김포시의회 의장, 고의성 '전면 부인'>, <Post: 사지말고쓰지말자>]>"
      ]
     },
     "execution_count": 13,
     "metadata": {},
     "output_type": "execute_result"
    }
   ],
   "source": [
    "Post.objects.all()"
   ]
  },
  {
   "cell_type": "code",
   "execution_count": 18,
   "metadata": {},
   "outputs": [
    {
     "data": {
      "text/plain": [
       "<QuerySet [<Post: 사지말고쓰지말자>]>"
      ]
     },
     "execution_count": 18,
     "metadata": {},
     "output_type": "execute_result"
    }
   ],
   "source": [
    "Post.objects.all().filter(title__icontains=\"사지말고\")\n",
    "#title에 대한 검색 허용 "
   ]
  },
  {
   "cell_type": "code",
   "execution_count": 19,
   "metadata": {
    "scrolled": true
   },
   "outputs": [
    {
     "name": "stdout",
     "output_type": "stream",
     "text": [
      "현대중 노조 파업 투표 가결...본격적인 임금협상 앞두고 변수로 떠올라\n",
      "'아내 골프채 살해' 전 김포시의회 의장, 고의성 '전면 부인'\n",
      "사지말고쓰지말자\n"
     ]
    }
   ],
   "source": [
    "for post in Post.objects.all():\n",
    "    print(post)"
   ]
  },
  {
   "cell_type": "code",
   "execution_count": 20,
   "metadata": {},
   "outputs": [
    {
     "data": {
      "text/plain": [
       "<QuerySet [<Post: 사지말고쓰지말자>]>"
      ]
     },
     "execution_count": 20,
     "metadata": {},
     "output_type": "execute_result"
    }
   ],
   "source": [
    "Post.objects.all().filter(content__icontains=\"반일감정\")"
   ]
  },
  {
   "cell_type": "code",
   "execution_count": 23,
   "metadata": {},
   "outputs": [],
   "source": [
    "import random #이걸 잘 알아놔야겟다\n",
    "\n",
    "for i in range(1000):\n",
    "    status = random.choice(['d','p','w'])\n",
    "    Post.objects.create(author='김종혁', title='{}만큼 집에가고싶은 김종혁 광주는 언제가나'.format(i), content='집에가고싶은 나의 마음 추석 열차 예매는 가능할까...', status=status)"
   ]
  },
  {
   "cell_type": "code",
   "execution_count": 24,
   "metadata": {},
   "outputs": [
    {
     "data": {
      "text/plain": [
       "1003"
      ]
     },
     "execution_count": 24,
     "metadata": {},
     "output_type": "execute_result"
    }
   ],
   "source": [
    "Post.objects.all().count()"
   ]
  },
  {
   "cell_type": "code",
   "execution_count": 39,
   "metadata": {},
   "outputs": [
    {
     "name": "stdout",
     "output_type": "stream",
     "text": [
      "<QuerySet [<Post: 2만큼 집에가고싶은 김종혁 광주는 언제가나>, <Post: 12만큼 집에가고싶은 김종혁 광주는 언제가나>, <Post: 20만큼 집에가고싶은 김종혁 광주는 언제가나>, <Post: 21만큼 집에가고싶은 김종혁 광주는 언제가나>, <Post: 22만큼 집에가고싶은 김종혁 광주는 언제가나>, <Post: 23만큼 집에가고싶은 김종혁 광주는 언제가나>, <Post: 24만큼 집에가고싶은 김종혁 광주는 언제가나>, <Post: 25만큼 집에가고싶은 김종혁 광주는 언제가나>, <Post: 26만큼 집에가고싶은 김종혁 광주는 언제가나>, <Post: 27만큼 집에가고싶은 김종혁 광주는 언제가나>, <Post: 28만큼 집에가고싶은 김종혁 광주는 언제가나>, <Post: 29만큼 집에가고싶은 김종혁 광주는 언제가나>, <Post: 32만큼 집에가고싶은 김종혁 광주는 언제가나>, <Post: 42만큼 집에가고싶은 김종혁 광주는 언제가나>, <Post: 52만큼 집에가고싶은 김종혁 광주는 언제가나>, <Post: 62만큼 집에가고싶은 김종혁 광주는 언제가나>, <Post: 72만큼 집에가고싶은 김종혁 광주는 언제가나>, <Post: 82만큼 집에가고싶은 김종혁 광주는 언제가나>, <Post: 92만큼 집에가고싶은 김종혁 광주는 언제가나>, <Post: 102만큼 집에가고싶은 김종혁 광주는 언제가나>, '...(remaining elements truncated)...']>\n",
      "<QuerySet [<Post: 2만큼 집에가고싶은 김종혁 광주는 언제가나>, <Post: 12만큼 집에가고싶은 김종혁 광주는 언제가나>, <Post: 20만큼 집에가고싶은 김종혁 광주는 언제가나>, <Post: 21만큼 집에가고싶은 김종혁 광주는 언제가나>, <Post: 22만큼 집에가고싶은 김종혁 광주는 언제가나>, <Post: 23만큼 집에가고싶은 김종혁 광주는 언제가나>, <Post: 24만큼 집에가고싶은 김종혁 광주는 언제가나>, <Post: 25만큼 집에가고싶은 김종혁 광주는 언제가나>, <Post: 26만큼 집에가고싶은 김종혁 광주는 언제가나>, <Post: 27만큼 집에가고싶은 김종혁 광주는 언제가나>, <Post: 28만큼 집에가고싶은 김종혁 광주는 언제가나>, <Post: 29만큼 집에가고싶은 김종혁 광주는 언제가나>, <Post: 32만큼 집에가고싶은 김종혁 광주는 언제가나>, <Post: 42만큼 집에가고싶은 김종혁 광주는 언제가나>, <Post: 52만큼 집에가고싶은 김종혁 광주는 언제가나>, <Post: 62만큼 집에가고싶은 김종혁 광주는 언제가나>, <Post: 72만큼 집에가고싶은 김종혁 광주는 언제가나>, <Post: 82만큼 집에가고싶은 김종혁 광주는 언제가나>, <Post: 92만큼 집에가고싶은 김종혁 광주는 언제가나>, <Post: 102만큼 집에가고싶은 김종혁 광주는 언제가나>, '...(remaining elements truncated)...']>\n"
     ]
    }
   ],
   "source": [
    "qs1 = Post.objects.filter(title__icontains='2', title__endswith='나')\n",
    "print(qs1)\n",
    "qs2 = Post.objects.filter(title__icontains='2').filter(title__endswith='나')\n",
    "print(qs2) #둘이가 같다. 채이닝 지원한다는게 요런말"
   ]
  },
  {
   "cell_type": "code",
   "execution_count": 35,
   "metadata": {},
   "outputs": [
    {
     "data": {
      "text/plain": [
       "<QuerySet []>"
      ]
     },
     "execution_count": 35,
     "metadata": {},
     "output_type": "execute_result"
    }
   ],
   "source": [
    "Post.objects.filter(title__icontains='1').exclude(title__endswith=\"나\")"
   ]
  },
  {
   "cell_type": "code",
   "execution_count": null,
   "metadata": {},
   "outputs": [],
   "source": [
    "form django.db.models import Q"
   ]
  },
  {
   "cell_type": "code",
   "execution_count": 38,
   "metadata": {
    "scrolled": true
   },
   "outputs": [
    {
     "data": {
      "text/plain": [
       "<QuerySet [<Post: 1만큼 집에가고싶은 김종혁 광주는 언제가나>, <Post: 10만큼 집에가고싶은 김종혁 광주는 언제가나>, <Post: 11만큼 집에가고싶은 김종혁 광주는 언제가나>, <Post: 12만큼 집에가고싶은 김종혁 광주는 언제가나>, <Post: 13만큼 집에가고싶은 김종혁 광주는 언제가나>, <Post: 14만큼 집에가고싶은 김종혁 광주는 언제가나>, <Post: 15만큼 집에가고싶은 김종혁 광주는 언제가나>, <Post: 16만큼 집에가고싶은 김종혁 광주는 언제가나>, <Post: 17만큼 집에가고싶은 김종혁 광주는 언제가나>, <Post: 18만큼 집에가고싶은 김종혁 광주는 언제가나>, <Post: 19만큼 집에가고싶은 김종혁 광주는 언제가나>, <Post: 21만큼 집에가고싶은 김종혁 광주는 언제가나>, <Post: 31만큼 집에가고싶은 김종혁 광주는 언제가나>, <Post: 41만큼 집에가고싶은 김종혁 광주는 언제가나>, <Post: 51만큼 집에가고싶은 김종혁 광주는 언제가나>, <Post: 61만큼 집에가고싶은 김종혁 광주는 언제가나>, <Post: 71만큼 집에가고싶은 김종혁 광주는 언제가나>, <Post: 81만큼 집에가고싶은 김종혁 광주는 언제가나>, <Post: 91만큼 집에가고싶은 김종혁 광주는 언제가나>, <Post: 100만큼 집에가고싶은 김종혁 광주는 언제가나>, '...(remaining elements truncated)...']>"
      ]
     },
     "execution_count": 38,
     "metadata": {},
     "output_type": "execute_result"
    }
   ],
   "source": [
    "Post.objects.filter(Q(title__icontains='1', title__endswith='3')) #and\n",
    "Post.objects.filter(Q(title__icontains='1')|Q(title__endswith='3')) #or"
   ]
  },
  {
   "cell_type": "code",
   "execution_count": 43,
   "metadata": {},
   "outputs": [
    {
     "name": "stdout",
     "output_type": "stream",
     "text": [
      "[<Post: 2만큼 집에가고싶은 김종혁 광주는 언제가나>, <Post: 12만큼 집에가고싶은 김종혁 광주는 언제가나>, <Post: 20만큼 집에가고싶은 김종혁 광주는 언제가나>]\n"
     ]
    }
   ],
   "source": [
    "a=[instance for instance in qs2]\n",
    "print(a[:3])\n",
    "#일일히 출력해버리기... "
   ]
  },
  {
   "cell_type": "code",
   "execution_count": null,
   "metadata": {},
   "outputs": [],
   "source": []
  }
 ],
 "metadata": {
  "kernelspec": {
   "display_name": "Django Shell-Plus",
   "language": "python",
   "name": "django_extensions"
  },
  "language_info": {
   "codemirror_mode": {
    "name": "ipython",
    "version": 3
   },
   "file_extension": ".py",
   "mimetype": "text/x-python",
   "name": "python",
   "nbconvert_exporter": "python",
   "pygments_lexer": "ipython3",
   "version": "3.7.3"
  }
 },
 "nbformat": 4,
 "nbformat_minor": 2
}
